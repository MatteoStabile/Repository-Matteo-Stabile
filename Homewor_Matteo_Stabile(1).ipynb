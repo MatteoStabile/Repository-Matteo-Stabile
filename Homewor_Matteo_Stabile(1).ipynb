{
 "cells": [
  {
   "cell_type": "markdown",
   "metadata": {
    "toc": true
   },
   "source": [
    "<h1>Table of Contents<span class=\"tocSkip\"></span></h1>\n",
    "<div class=\"toc\"><ul class=\"toc-item\"><li><span><a href=\"#Istruzioni-condizionali\" data-toc-modified-id=\"Istruzioni-condizionali-1\"><span class=\"toc-item-num\">1&nbsp;&nbsp;</span>Istruzioni condizionali</a></span><ul class=\"toc-item\"><li><span><a href=\"#il-costrutto-if\" data-toc-modified-id=\"il-costrutto-if-1.1\"><span class=\"toc-item-num\">1.1&nbsp;&nbsp;</span>il costrutto <em>if</em></a></span></li><li><span><a href=\"#il-costrutto-else\" data-toc-modified-id=\"il-costrutto-else-1.2\"><span class=\"toc-item-num\">1.2&nbsp;&nbsp;</span>il costrutto <em>else</em></a></span></li><li><span><a href=\"#il-costrutto-elif\" data-toc-modified-id=\"il-costrutto-elif-1.3\"><span class=\"toc-item-num\">1.3&nbsp;&nbsp;</span>il costrutto <em>elif</em></a></span></li></ul></li><li><span><a href=\"#Cos'è-una-condizione?\" data-toc-modified-id=\"Cos'è-una-condizione?-2\"><span class=\"toc-item-num\">2&nbsp;&nbsp;</span>Cos'è una condizione?</a></span></li><li><span><a href=\"#Come-combino-più-condizioni?\" data-toc-modified-id=\"Come-combino-più-condizioni?-3\"><span class=\"toc-item-num\">3&nbsp;&nbsp;</span>Come combino più condizioni?</a></span></li><li><span><a href=\"#Homework\" data-toc-modified-id=\"Homework-4\"><span class=\"toc-item-num\">4&nbsp;&nbsp;</span>Homework</a></span></li></ul></div>"
   ]
  },
  {
   "cell_type": "markdown",
   "metadata": {},
   "source": [
    "Istruzioni condizionali\n",
    "==="
   ]
  },
  {
   "cell_type": "markdown",
   "metadata": {},
   "source": [
    "il costrutto *if*\n",
    "---\n",
    "La keyword *if* viene utilizzata per testare una o più condizioni \n",
    "\n",
    "(Attenzione alla sintassi!)"
   ]
  },
  {
   "cell_type": "code",
   "execution_count": 2,
   "metadata": {},
   "outputs": [],
   "source": [
    "numero = 13\n",
    "\n",
    "if numero % 2 == 0 and numero % 3 == 0:\n",
    "    print(numero, 'è un numero dispari')"
   ]
  },
  {
   "cell_type": "markdown",
   "metadata": {},
   "source": [
    "il costrutto *else*\n",
    "---\n",
    "Attraverso la keyword *else*, possiamo associare un'azione all'evento di fallimento della condizione testata da if.\n",
    "\n",
    "La keyword *else* può essere utilizzata per esprimere l'alternativa della condizione di *if* ovvero cosa fare se la prima condizione non si verifica"
   ]
  },
  {
   "cell_type": "code",
   "execution_count": 4,
   "metadata": {},
   "outputs": [
    {
     "name": "stdout",
     "output_type": "stream",
     "text": [
      "40 è un numero pari\n"
     ]
    }
   ],
   "source": [
    "numero = 40\n",
    "\n",
    "if numero % 2 == 0:\n",
    "    print(numero, 'è un numero pari')\n",
    "else:\n",
    "    print(numero, 'è un numero dispari')"
   ]
  },
  {
   "cell_type": "markdown",
   "metadata": {},
   "source": [
    "il costrutto *elif*\n",
    "---"
   ]
  },
  {
   "cell_type": "markdown",
   "metadata": {},
   "source": [
    "Nel caso ci siano più condizioni da testare come alternativa all'*if* allora si utilizza la keyword *elif*.\n",
    "A questo punto la condizione dell'*else* viene verificata solo dopo che tutte le altre condizioni falliscono"
   ]
  },
  {
   "cell_type": "code",
   "execution_count": 8,
   "metadata": {},
   "outputs": [],
   "source": [
    "sum_ = 5"
   ]
  },
  {
   "cell_type": "code",
   "execution_count": 9,
   "metadata": {},
   "outputs": [
    {
     "name": "stdout",
     "output_type": "stream",
     "text": [
      "sum is above 0 and its value is 5\n"
     ]
    }
   ],
   "source": [
    "if sum_ == 0:\n",
    "    print(\"sum is 0\")\n",
    "elif sum_  < 0:\n",
    "    print(\"sum is less than 0\")\n",
    "else:\n",
    "    print(\"sum is above 0 and its value is \" + str(sum))"
   ]
  },
  {
   "cell_type": "markdown",
   "metadata": {},
   "source": [
    "Cos'è una condizione?\n",
    "==="
   ]
  },
  {
   "cell_type": "markdown",
   "metadata": {},
   "source": [
    "Le condizioni che i costrutti precedenti devono verificare possono essere vere (l'output sarà **True**)\n",
    "o false (l'output sarà **False**), questi vengono chiamati valori di tipo *booleano*."
   ]
  },
  {
   "cell_type": "code",
   "execution_count": 11,
   "metadata": {},
   "outputs": [],
   "source": [
    "nome = 'Cristina'\n",
    "cognome = \"D'Onorio De Meo\""
   ]
  },
  {
   "cell_type": "code",
   "execution_count": 13,
   "metadata": {},
   "outputs": [
    {
     "data": {
      "text/plain": [
       "False"
      ]
     },
     "execution_count": 13,
     "metadata": {},
     "output_type": "execute_result"
    }
   ],
   "source": [
    "nome == cognome"
   ]
  },
  {
   "cell_type": "code",
   "execution_count": 14,
   "metadata": {},
   "outputs": [
    {
     "data": {
      "text/plain": [
       "bool"
      ]
     },
     "execution_count": 14,
     "metadata": {},
     "output_type": "execute_result"
    }
   ],
   "source": [
    "type(nome == cognome)"
   ]
  },
  {
   "cell_type": "code",
   "execution_count": 16,
   "metadata": {},
   "outputs": [
    {
     "data": {
      "text/plain": [
       "True"
      ]
     },
     "execution_count": 16,
     "metadata": {},
     "output_type": "execute_result"
    }
   ],
   "source": [
    "'C' in nome"
   ]
  },
  {
   "cell_type": "markdown",
   "metadata": {},
   "source": [
    "Si utilizzano anche altri operatori come '<' oppure '>' oppure '!='(è diverso da) per verificare altre condizioni"
   ]
  },
  {
   "cell_type": "code",
   "execution_count": 17,
   "metadata": {},
   "outputs": [
    {
     "data": {
      "text/plain": [
       "False"
      ]
     },
     "execution_count": 17,
     "metadata": {},
     "output_type": "execute_result"
    }
   ],
   "source": [
    "x = 8\n",
    "y = 9\n",
    "\n",
    "x > 9"
   ]
  },
  {
   "cell_type": "code",
   "execution_count": 18,
   "metadata": {},
   "outputs": [
    {
     "data": {
      "text/plain": [
       "False"
      ]
     },
     "execution_count": 18,
     "metadata": {},
     "output_type": "execute_result"
    }
   ],
   "source": [
    "z = 10\n",
    "w = 10\n",
    "\n",
    "z != w"
   ]
  },
  {
   "cell_type": "markdown",
   "metadata": {},
   "source": [
    "Come combino più condizioni?\n",
    "===\n",
    "\n",
    "Per combinare più condizioni vengono utilizzati degli operatori definiti *operatori boleani*:\n",
    "- **and** quando vogliamo che si verifichino entrambe le condizioni contemporaneamente\n",
    "- **or** quando vogliamo che almeno una delle due si verifichi\n",
    "- **not** quando vogliamo negare una condizione"
   ]
  },
  {
   "cell_type": "code",
   "execution_count": 21,
   "metadata": {},
   "outputs": [
    {
     "data": {
      "text/plain": [
       "True"
      ]
     },
     "execution_count": 21,
     "metadata": {},
     "output_type": "execute_result"
    }
   ],
   "source": [
    "x = 50\n",
    "\n",
    "x > 10 and x < 51"
   ]
  },
  {
   "cell_type": "code",
   "execution_count": 22,
   "metadata": {},
   "outputs": [
    {
     "data": {
      "text/plain": [
       "True"
      ]
     },
     "execution_count": 22,
     "metadata": {},
     "output_type": "execute_result"
    }
   ],
   "source": [
    "x > 0  or x % 2 == 0"
   ]
  },
  {
   "cell_type": "code",
   "execution_count": 23,
   "metadata": {},
   "outputs": [
    {
     "data": {
      "text/plain": [
       "True"
      ]
     },
     "execution_count": 23,
     "metadata": {},
     "output_type": "execute_result"
    }
   ],
   "source": [
    "not type(x) == float"
   ]
  },
  {
   "cell_type": "code",
   "execution_count": 24,
   "metadata": {},
   "outputs": [
    {
     "data": {
      "text/plain": [
       "False"
      ]
     },
     "execution_count": 24,
     "metadata": {},
     "output_type": "execute_result"
    }
   ],
   "source": [
    "not not type(x) == float"
   ]
  },
  {
   "cell_type": "markdown",
   "metadata": {},
   "source": [
    "Homework\n",
    "===\n",
    "\n",
    "1) Data questa lista di interi lista = [0,2,5,7,8.9] calcola il massimo, minimo, somma e media dei suoi elementi\n",
    "\n",
    "2) Crea una lista vuota, inserisci numeri interi a tuo piacimento alla lista e poi rimuovi da essa solo i numeri pari\n",
    "\n",
    "3) Crea una funzione che restituisca **True** se la lista di numeri interi che prende come parametro è una lista di quadrati perfetti (es 4, 9, 16 ecc..), **False** altrimenti\n",
    "\n",
    "4) Svolgi l'esercizio precedente utilizzando una compressione di liste"
   ]
  },
  {
   "cell_type": "code",
   "execution_count": 298,
   "metadata": {},
   "outputs": [
    {
     "name": "stdout",
     "output_type": "stream",
     "text": [
      "il numero massimo della lista è 9\n",
      "il numero minimo della lista è 0\n",
      "La somma della lista è pari a 31, la media invece 5.166666666666667 \n",
      "La lista nuova senza i numeri dispari è [64, 76, 90, 64, 56, 86]\n",
      "True\n",
      "True\n",
      "False\n"
     ]
    }
   ],
   "source": [
    "import math\n",
    "\n",
    "#Trovare il massimo di una lista\n",
    "def massimo(lista):\n",
    "    maxvalore = lista[0]\n",
    "    for i in lista:\n",
    "        if i > maxvalore:\n",
    "            maxvalore = i\n",
    "    print(\"il numero massimo della lista è\", maxvalore)\n",
    "    \n",
    "massimo([5,2,5,7,8,9])\n",
    "\n",
    "#Trovare il minimo di una lista\n",
    "def minimo(lista):\n",
    "    minvalore = lista[0]\n",
    "    for k in lista:\n",
    "        if k < minvalore:\n",
    "            minvalore = k\n",
    "    print(\"il numero minimo della lista è\", minvalore)\n",
    "    \n",
    "minimo([0,2,5,7,8,9])\n",
    "\n",
    "#Trovare la somma e la media\n",
    "def somma_media(lista):\n",
    "    somma = 0\n",
    "    for z in lista:\n",
    "        somma = somma + z \n",
    "        media = somma / len(lista)\n",
    "    print(\"La somma della lista è pari a {}, la media invece {} \".format(somma,media))\n",
    "    \n",
    "somma_media([0,2,5,7,8,9])\n",
    "\n",
    "#Eliminare i numeri dispari da una lista\n",
    "numeri_pari = []\n",
    "numeri_interi = [25,64,76,89,90,64,53,56,86,87]\n",
    "numeri_pari += numeri_interi\n",
    "\n",
    "for q in numeri_pari:\n",
    "    if q % 2 != 0:\n",
    "        numeri_pari.remove(q)\n",
    "lista_numeri_pari = numeri_pari\n",
    "print(\"La lista nuova senza i numeri dispari è {}\".format(lista_numeri_pari))\n",
    "\n",
    "#Verificare se una lista è composta da perfetti quadrati\n",
    "def perfect_sq(lista):\n",
    "    condizione = True\n",
    "    for v in lista:\n",
    "        if v != (math.sqrt(v)) * (math.sqrt(v)):\n",
    "            condizione = False\n",
    "    return condizione\n",
    "\n",
    "\n",
    "\n",
    "\n",
    "#Verificare se una lista è composta da perfetti quadrati, tramite l'unione di due liste\n",
    "def perfect_sq_compressione(lista,lista2):\n",
    "    listatot = lista + lista2\n",
    "    condizione = True\n",
    "    for v in listatot:\n",
    "        if v != (math.sqrt(v)) * (math.sqrt(v)):\n",
    "            condizione = False\n",
    "    return condizione\n",
    "\n",
    "\n",
    "\n",
    "perfetti_quadrati = perfect_sq([4,9,16,25])\n",
    "print(perfetti_quadrati)\n",
    "perfetti_quadrati_unione_liste = perfect_sq_compressione([4,9,16,25],[36,49])\n",
    "print(perfetti_quadrati_unione_liste)\n",
    "not_perfetti_quadrati_unione_liste = perfect_sq_compressione([4,9,16,25],[36,48])\n",
    "print(not_perfetti_quadrati_unione_liste)\n",
    "\n",
    "\n",
    "    \n",
    "    \n",
    "\n",
    "\n",
    "\n",
    "        \n",
    "\n",
    "\n"
   ]
  },
  {
   "cell_type": "markdown",
   "metadata": {},
   "source": [
    "### "
   ]
  },
  {
   "cell_type": "code",
   "execution_count": null,
   "metadata": {},
   "outputs": [],
   "source": []
  }
 ],
 "metadata": {
  "kernelspec": {
   "display_name": "Python 3",
   "language": "python",
   "name": "python3"
  },
  "language_info": {
   "codemirror_mode": {
    "name": "ipython",
    "version": 3
   },
   "file_extension": ".py",
   "mimetype": "text/x-python",
   "name": "python",
   "nbconvert_exporter": "python",
   "pygments_lexer": "ipython3",
   "version": "3.8.5"
  },
  "toc": {
   "base_numbering": 1,
   "nav_menu": {},
   "number_sections": true,
   "sideBar": true,
   "skip_h1_title": false,
   "title_cell": "Table of Contents",
   "title_sidebar": "Contents",
   "toc_cell": true,
   "toc_position": {
    "height": "calc(100% - 180px)",
    "left": "10px",
    "top": "150px",
    "width": "196.391px"
   },
   "toc_section_display": true,
   "toc_window_display": true
  }
 },
 "nbformat": 4,
 "nbformat_minor": 2
}
