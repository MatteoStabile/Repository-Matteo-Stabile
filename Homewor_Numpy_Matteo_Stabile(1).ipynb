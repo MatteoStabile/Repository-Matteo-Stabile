{
 "cells": [
  {
   "cell_type": "markdown",
   "metadata": {
    "toc": true
   },
   "source": [
    "<h1>Table of Contents<span class=\"tocSkip\"></span></h1>\n",
    "<div class=\"toc\"><ul class=\"toc-item\"><li><span><a href=\"#NumPy\" data-toc-modified-id=\"NumPy-1\"><span class=\"toc-item-num\">1&nbsp;&nbsp;</span>NumPy</a></span><ul class=\"toc-item\"><li><span><a href=\"#Homework\" data-toc-modified-id=\"Homework-1.1\"><span class=\"toc-item-num\">1.1&nbsp;&nbsp;</span>Homework</a></span></li></ul></li></ul></div>"
   ]
  },
  {
   "cell_type": "markdown",
   "metadata": {},
   "source": [
    "# NumPy"
   ]
  },
  {
   "cell_type": "markdown",
   "metadata": {},
   "source": [
    "NumPy è una libreria open source per il linguaggio di programmazione Python, che aggiunge supporto a grandi **matrici**\n",
    "e **array multidimensionali** insieme a una vasta collezione di funzioni matematiche di alto livello per poter operare \n",
    "efficientemente su queste strutture dati."
   ]
  },
  {
   "cell_type": "markdown",
   "metadata": {},
   "source": [
    "##### Le basi: come creo un array?"
   ]
  },
  {
   "cell_type": "markdown",
   "metadata": {},
   "source": [
    "**Ricorda** : NumPy considera come array sia le matrici che i vettori! \n",
    "\n",
    "*Array* : insieme organizzato di elementi omogenei, identificati da uno stesso nome e da uno o più indici."
   ]
  },
  {
   "cell_type": "code",
   "execution_count": 3,
   "metadata": {},
   "outputs": [],
   "source": [
    "#importo la libreria di riferimento\n",
    "\n",
    "import numpy as np"
   ]
  },
  {
   "cell_type": "code",
   "execution_count": 4,
   "metadata": {},
   "outputs": [
    {
     "data": {
      "text/plain": [
       "array([[ 0,  1,  2,  3,  4],\n",
       "       [ 5,  6,  7,  8,  9],\n",
       "       [10, 11, 12, 13, 14]])"
      ]
     },
     "execution_count": 4,
     "metadata": {},
     "output_type": "execute_result"
    }
   ],
   "source": [
    "a = np.arange(15).reshape(3, 5)\n",
    "a"
   ]
  },
  {
   "cell_type": "code",
   "execution_count": 5,
   "metadata": {},
   "outputs": [
    {
     "data": {
      "text/plain": [
       "array([ 0,  1,  4,  9, 16, 25, 36, 49, 64, 81])"
      ]
     },
     "execution_count": 5,
     "metadata": {},
     "output_type": "execute_result"
    }
   ],
   "source": [
    "squares = np.array([x**2 for x in range(10)])\n",
    "squares"
   ]
  },
  {
   "cell_type": "code",
   "execution_count": 6,
   "metadata": {},
   "outputs": [
    {
     "data": {
      "text/plain": [
       "numpy.ndarray"
      ]
     },
     "execution_count": 6,
     "metadata": {},
     "output_type": "execute_result"
    }
   ],
   "source": [
    "type(squares)"
   ]
  },
  {
   "cell_type": "markdown",
   "metadata": {},
   "source": [
    "###### Metodi utili per array"
   ]
  },
  {
   "cell_type": "code",
   "execution_count": 7,
   "metadata": {},
   "outputs": [
    {
     "data": {
      "text/plain": [
       "(3, 5)"
      ]
     },
     "execution_count": 7,
     "metadata": {},
     "output_type": "execute_result"
    }
   ],
   "source": [
    "a.shape"
   ]
  },
  {
   "cell_type": "code",
   "execution_count": 8,
   "metadata": {},
   "outputs": [
    {
     "data": {
      "text/plain": [
       "2"
      ]
     },
     "execution_count": 8,
     "metadata": {},
     "output_type": "execute_result"
    }
   ],
   "source": [
    "a.ndim"
   ]
  },
  {
   "cell_type": "code",
   "execution_count": 9,
   "metadata": {},
   "outputs": [
    {
     "data": {
      "text/plain": [
       "'int32'"
      ]
     },
     "execution_count": 9,
     "metadata": {},
     "output_type": "execute_result"
    }
   ],
   "source": [
    "a.dtype.name"
   ]
  },
  {
   "cell_type": "code",
   "execution_count": 10,
   "metadata": {},
   "outputs": [
    {
     "data": {
      "text/plain": [
       "4"
      ]
     },
     "execution_count": 10,
     "metadata": {},
     "output_type": "execute_result"
    }
   ],
   "source": [
    "a.itemsize"
   ]
  },
  {
   "cell_type": "code",
   "execution_count": 11,
   "metadata": {},
   "outputs": [
    {
     "data": {
      "text/plain": [
       "15"
      ]
     },
     "execution_count": 11,
     "metadata": {},
     "output_type": "execute_result"
    }
   ],
   "source": [
    "a.size"
   ]
  },
  {
   "cell_type": "code",
   "execution_count": 12,
   "metadata": {},
   "outputs": [
    {
     "data": {
      "text/plain": [
       "numpy.ndarray"
      ]
     },
     "execution_count": 12,
     "metadata": {},
     "output_type": "execute_result"
    }
   ],
   "source": [
    "type(a)"
   ]
  },
  {
   "cell_type": "markdown",
   "metadata": {},
   "source": [
    "###### Creare array a partire da tipi diversi in Python"
   ]
  },
  {
   "cell_type": "markdown",
   "metadata": {},
   "source": [
    "La funzione **range( )** ritorna una sequenza di numeri, partendo da 0 di default, e incrementa di 1 (di default), e si ferma prima di uno specifico numero."
   ]
  },
  {
   "cell_type": "code",
   "execution_count": 13,
   "metadata": {},
   "outputs": [
    {
     "name": "stdout",
     "output_type": "stream",
     "text": [
      "<class 'list'>\n",
      "<class 'tuple'>\n",
      "<class 'set'>\n"
     ]
    }
   ],
   "source": [
    "squares = [x**2 for x in range(10)]         # list\n",
    "cubes = tuple(x**3 for x in range(10))      # tuple\n",
    "evens = {x for x in range(10) if x%2 == 0}  # set\n",
    "\n",
    "print(type(squares))\n",
    "print(type(cubes))\n",
    "print(type(evens))"
   ]
  },
  {
   "cell_type": "code",
   "execution_count": 14,
   "metadata": {},
   "outputs": [
    {
     "data": {
      "text/plain": [
       "[0, 1, 4, 9, 16, 25, 36, 49, 64, 81]"
      ]
     },
     "execution_count": 14,
     "metadata": {},
     "output_type": "execute_result"
    }
   ],
   "source": [
    "squares"
   ]
  },
  {
   "cell_type": "code",
   "execution_count": 15,
   "metadata": {},
   "outputs": [
    {
     "data": {
      "text/plain": [
       "(0, 1, 8, 27, 64, 125, 216, 343, 512, 729)"
      ]
     },
     "execution_count": 15,
     "metadata": {},
     "output_type": "execute_result"
    }
   ],
   "source": [
    "cubes"
   ]
  },
  {
   "cell_type": "code",
   "execution_count": 16,
   "metadata": {},
   "outputs": [
    {
     "data": {
      "text/plain": [
       "{0, 2, 4, 6, 8}"
      ]
     },
     "execution_count": 16,
     "metadata": {},
     "output_type": "execute_result"
    }
   ],
   "source": [
    "evens"
   ]
  },
  {
   "cell_type": "code",
   "execution_count": 17,
   "metadata": {},
   "outputs": [
    {
     "name": "stdout",
     "output_type": "stream",
     "text": [
      "<class 'numpy.ndarray'>\n"
     ]
    }
   ],
   "source": [
    "a = np.array(squares)\n",
    "b = np.array(cubes)\n",
    "c = np.array(evens)\n",
    "\n",
    "if type(a) == type(b) == type(c):\n",
    "    print(type(a))"
   ]
  },
  {
   "cell_type": "code",
   "execution_count": 18,
   "metadata": {},
   "outputs": [
    {
     "name": "stdout",
     "output_type": "stream",
     "text": [
      "2\n",
      "3\n"
     ]
    }
   ],
   "source": [
    "seq2 = [[x, x**2, x**3] for x in range(10)]\n",
    "seq3 = [[[x for x in range(3)], [y for y in range(3, 6)]] for z in range(10)]\n",
    "\n",
    "a = np.array(seq2) \n",
    "b = np.array(seq3)\n",
    "\n",
    "print(a.ndim)\n",
    "print(b.ndim)"
   ]
  },
  {
   "cell_type": "code",
   "execution_count": 19,
   "metadata": {},
   "outputs": [
    {
     "name": "stdout",
     "output_type": "stream",
     "text": [
      "[[0 0 0]\n",
      " [0 0 0]\n",
      " [0 0 0]] int32\n",
      "[[1. 1.]\n",
      " [1. 1.]] float64\n",
      "[[0.00000000e+000 0.00000000e+000 0.00000000e+000]\n",
      " [0.00000000e+000 0.00000000e+000 7.05525742e-321]\n",
      " [1.11261570e-306 8.90060779e-307 3.49699467e-317]] float64\n"
     ]
    }
   ],
   "source": [
    "zeros = np.zeros((3, 3), dtype=np.int32) \n",
    "ones = np.ones((2, 2), dtype=np.float64)\n",
    "empty = np.empty((3, 3))\n",
    "\n",
    "print(zeros, zeros.dtype.name)\n",
    "print(ones, ones.dtype.name)\n",
    "print(empty, empty.dtype.name)"
   ]
  },
  {
   "cell_type": "code",
   "execution_count": 20,
   "metadata": {},
   "outputs": [
    {
     "data": {
      "text/plain": [
       "array([ 5, 10, 15, 20, 25])"
      ]
     },
     "execution_count": 20,
     "metadata": {},
     "output_type": "execute_result"
    }
   ],
   "source": [
    "a = np.arange(5, 30, 5) \n",
    "a"
   ]
  },
  {
   "cell_type": "code",
   "execution_count": 21,
   "metadata": {},
   "outputs": [
    {
     "data": {
      "text/plain": [
       "array([ 0.00000000e+00,  6.42787610e-01,  9.84807753e-01,  8.66025404e-01,\n",
       "        3.42020143e-01, -3.42020143e-01, -8.66025404e-01, -9.84807753e-01,\n",
       "       -6.42787610e-01, -2.44929360e-16])"
      ]
     },
     "execution_count": 21,
     "metadata": {},
     "output_type": "execute_result"
    }
   ],
   "source": [
    "from numpy import pi\n",
    "\n",
    "c = np.linspace(0, 2*pi, 10)\n",
    "\n",
    "f = np.sin(c)\n",
    "f"
   ]
  },
  {
   "cell_type": "code",
   "execution_count": 22,
   "metadata": {},
   "outputs": [
    {
     "data": {
      "text/plain": [
       "array([[0, 1, 2],\n",
       "       [2, 3, 4],\n",
       "       [4, 5, 6]])"
      ]
     },
     "execution_count": 22,
     "metadata": {},
     "output_type": "execute_result"
    }
   ],
   "source": [
    "def f(row_num, col_num):\n",
    "    return 2*row_num + col_num\n",
    "\n",
    "F = np.fromfunction(f, (3, 3), dtype=int)\n",
    "F"
   ]
  },
  {
   "cell_type": "markdown",
   "metadata": {},
   "source": [
    "###### Stampare array"
   ]
  },
  {
   "cell_type": "code",
   "execution_count": 23,
   "metadata": {},
   "outputs": [
    {
     "name": "stdout",
     "output_type": "stream",
     "text": [
      "[ 0  1  2  3  4  5  6  7  8  9 10 11 12 13 14]\n",
      "\n",
      "\n",
      "[[ 0  1  2  3  4]\n",
      " [ 5  6  7  8  9]\n",
      " [10 11 12 13 14]]\n",
      "\n",
      "\n",
      "[[[ 0  1  2  3]\n",
      "  [ 4  5  6  7]\n",
      "  [ 8  9 10 11]]\n",
      "\n",
      " [[12 13 14 15]\n",
      "  [16 17 18 19]\n",
      "  [20 21 22 23]]]\n"
     ]
    }
   ],
   "source": [
    "dim1 = np.arange(15)                  \n",
    "dim2 = np.arange(15).reshape(3, 5)    \n",
    "dim3 = np.arange(24).reshape(2, 3, 4)  \n",
    "print(dim1)\n",
    "print('\\n')\n",
    "print(dim2)\n",
    "print('\\n')\n",
    "print(dim3)"
   ]
  },
  {
   "cell_type": "markdown",
   "metadata": {},
   "source": [
    "###### Operazioni comuni con NumPy"
   ]
  },
  {
   "cell_type": "code",
   "execution_count": 24,
   "metadata": {},
   "outputs": [
    {
     "name": "stdout",
     "output_type": "stream",
     "text": [
      "[ 1  2  3  4  5  6  7  8  9 10]\n"
     ]
    }
   ],
   "source": [
    "a = np.arange(10) \n",
    "b = np.array([2 for x in range(10)])\n",
    "c = np.ones(10, dtype=int)\n",
    "result = a + b - c \n",
    "\n",
    "print(result)"
   ]
  },
  {
   "cell_type": "code",
   "execution_count": 25,
   "metadata": {},
   "outputs": [
    {
     "data": {
      "text/plain": [
       "array([ True,  True,  True,  True,  True,  True,  True,  True,  True,\n",
       "       False])"
      ]
     },
     "execution_count": 25,
     "metadata": {},
     "output_type": "execute_result"
    }
   ],
   "source": [
    "result < 10"
   ]
  },
  {
   "cell_type": "code",
   "execution_count": 26,
   "metadata": {},
   "outputs": [
    {
     "name": "stdout",
     "output_type": "stream",
     "text": [
      "[[10. 10. 10. 10. 10.]\n",
      " [10. 10. 10. 10. 10.]\n",
      " [10. 10. 10. 10. 10.]]\n",
      "\n",
      "[[5. 5. 5.]\n",
      " [5. 5. 5.]\n",
      " [5. 5. 5.]]\n",
      "\n",
      "[[5. 5. 5.]\n",
      " [5. 5. 5.]\n",
      " [5. 5. 5.]]\n"
     ]
    }
   ],
   "source": [
    "a = np.ones(15).reshape(3, 5)\n",
    "b = np.ones(15).reshape(5, 3)\n",
    "\n",
    "mult = a * 10           \n",
    "dot_prod1 = a.dot(b)   \n",
    "dot_prod2 = np.dot(a, b)\n",
    "\n",
    "print(mult, end='\\n\\n')\n",
    "print(dot_prod1, end='\\n\\n')\n",
    "print(dot_prod2)"
   ]
  },
  {
   "cell_type": "code",
   "execution_count": 27,
   "metadata": {},
   "outputs": [
    {
     "name": "stdout",
     "output_type": "stream",
     "text": [
      "float64\n",
      "complex128\n"
     ]
    }
   ],
   "source": [
    "a = np.ones(10, dtype=int)\n",
    "b = np.ones(10, dtype=float)\n",
    "c = np.ones(10, dtype=complex)\n",
    "\n",
    "a_plus_b = a + b \n",
    "b_plus_c = b + c \n",
    "\n",
    "print(a_plus_b.dtype.name)\n",
    "print(b_plus_c.dtype.name)\n"
   ]
  },
  {
   "cell_type": "code",
   "execution_count": 28,
   "metadata": {},
   "outputs": [
    {
     "name": "stdout",
     "output_type": "stream",
     "text": [
      "Sum: 55\n",
      "Min: 1\n",
      "Max: 10\n"
     ]
    }
   ],
   "source": [
    "a = np.arange(1, 11)\n",
    "print('Sum:', a.sum())\n",
    "print('Min:', a.min())\n",
    "print('Max:', a.max())"
   ]
  },
  {
   "cell_type": "code",
   "execution_count": 29,
   "metadata": {},
   "outputs": [
    {
     "name": "stdout",
     "output_type": "stream",
     "text": [
      "[18 21 24 27 30]\n",
      "[ 1  6 11]\n"
     ]
    },
    {
     "data": {
      "text/plain": [
       "array([[ 1,  2,  3,  4,  5],\n",
       "       [ 6,  7,  8,  9, 10],\n",
       "       [11, 12, 13, 14, 15]])"
      ]
     },
     "execution_count": 29,
     "metadata": {},
     "output_type": "execute_result"
    }
   ],
   "source": [
    "a = np.arange(15).reshape(3, 5) + 1\n",
    "\n",
    "print(a.sum(axis=0)) \n",
    "print(a.min(axis=1)) \n",
    "a"
   ]
  },
  {
   "cell_type": "markdown",
   "metadata": {},
   "source": [
    "###### Funzioni di diversa utilità"
   ]
  },
  {
   "cell_type": "code",
   "execution_count": 30,
   "metadata": {},
   "outputs": [
    {
     "name": "stdout",
     "output_type": "stream",
     "text": [
      "[ 0.00000000e+00  6.28381328e-04  1.25676241e-03 ... -1.25676241e-03\n",
      " -6.28381328e-04 -2.44929360e-16]\n",
      "\n",
      "[0.         0.02506754 0.03545085 ... 2.50637757 2.50650293 2.50662827]\n",
      "\n",
      "[  1.           1.00062858   1.00125755 ... 534.81909228 535.15526825\n",
      " 535.49165552]\n",
      "\n"
     ]
    }
   ],
   "source": [
    "a = np.linspace(0, 2*pi, 10000)\n",
    "\n",
    "sin_a = np.sin(a)\n",
    "sqrt_a = np.sqrt(a)\n",
    "exp_a = np.exp(a)\n",
    "\n",
    "print(sin_a, end='\\n\\n')\n",
    "print(sqrt_a, end='\\n\\n')\n",
    "print(exp_a, end='\\n\\n')"
   ]
  },
  {
   "cell_type": "markdown",
   "metadata": {},
   "source": [
    "##### Generazione numeri casuali"
   ]
  },
  {
   "cell_type": "markdown",
   "metadata": {},
   "source": [
    "Per la generazione di array di numeri causali a partire da vari tipi di distribuzione statistica si utilizza il modulo *random*:\n",
    "\n",
    "riferimento: https://docs.scipy.org/doc/numpy-1.14.0/reference/routines.random.html."
   ]
  },
  {
   "cell_type": "code",
   "execution_count": 31,
   "metadata": {},
   "outputs": [],
   "source": [
    "import numpy.random as rdm"
   ]
  },
  {
   "cell_type": "code",
   "execution_count": 32,
   "metadata": {},
   "outputs": [
    {
     "data": {
      "text/plain": [
       "array([[0.34426277, 0.73148509, 0.2442391 , 0.22255624],\n",
       "       [0.02394136, 0.29523404, 0.1119548 , 0.97853459],\n",
       "       [0.54959539, 0.28515483, 0.83854653, 0.37956188],\n",
       "       [0.10761892, 0.79692159, 0.88398509, 0.78268457]])"
      ]
     },
     "execution_count": 32,
     "metadata": {},
     "output_type": "execute_result"
    }
   ],
   "source": [
    "A = rdm.random((4,4))\n",
    "A"
   ]
  },
  {
   "cell_type": "code",
   "execution_count": 33,
   "metadata": {},
   "outputs": [
    {
     "data": {
      "text/plain": [
       "array([[5, 5, 5, 6],\n",
       "       [5, 6, 4, 1],\n",
       "       [2, 3, 5, 4],\n",
       "       [3, 1, 3, 5]])"
      ]
     },
     "execution_count": 33,
     "metadata": {},
     "output_type": "execute_result"
    }
   ],
   "source": [
    "I = rdm.randint(1,7,(4,4))\n",
    "I"
   ]
  },
  {
   "cell_type": "code",
   "execution_count": 34,
   "metadata": {},
   "outputs": [
    {
     "data": {
      "text/plain": [
       "array([[ 2.11690628,  2.6065636 ,  2.63599063,  2.72183549,  1.45833065,\n",
       "         1.62799328],\n",
       "       [ 1.68205787, -0.1993807 ,  3.39602855,  2.06360943,  2.40906852,\n",
       "         2.06659285],\n",
       "       [-0.25328607,  3.34240778,  3.83830432,  2.71271934,  0.4890095 ,\n",
       "         0.15108975],\n",
       "       [-0.77260207,  1.51662161,  2.51691058,  2.21527332,  2.12841755,\n",
       "         0.93735963]])"
      ]
     },
     "execution_count": 34,
     "metadata": {},
     "output_type": "execute_result"
    }
   ],
   "source": [
    "N = rdm.normal(2,1,(4,6))\n",
    "N"
   ]
  },
  {
   "cell_type": "markdown",
   "metadata": {},
   "source": [
    "###### Indexing, slicing, and iterating"
   ]
  },
  {
   "cell_type": "code",
   "execution_count": 35,
   "metadata": {},
   "outputs": [
    {
     "name": "stdout",
     "output_type": "stream",
     "text": [
      "[[  1   4   9  16  25]\n",
      " [ 36  49  64  81 100]]\n",
      "\n",
      "A[0]\t\t [ 1  4  9 16 25]\n",
      "A[-1]\t\t [ 36  49  64  81 100]\n",
      "A[0][0]\t\t 1\n",
      "A[-1][-1]\t 100\n"
     ]
    }
   ],
   "source": [
    "A = np.array([x**2 for x in range(1, 11)]).reshape(2, 5)\n",
    "\n",
    "print(A, end='\\n\\n')\n",
    "print('A[0]\\t\\t', A[0])\n",
    "print('A[-1]\\t\\t', A[-1])\n",
    "print('A[0][0]\\t\\t', A[0][0])\n",
    "print('A[-1][-1]\\t', A[-1][-1])\n"
   ]
  },
  {
   "cell_type": "code",
   "execution_count": 36,
   "metadata": {},
   "outputs": [
    {
     "name": "stdout",
     "output_type": "stream",
     "text": [
      "[[   1    8   27]\n",
      " [  64  125  216]\n",
      " [ 343  512  729]\n",
      " [1000 1331 1728]]\n",
      "\n",
      "First Column:\t [   1   64  343 1000]\n",
      "Last Column:\t [  27  216  729 1728]\n",
      "First Row:\t [ 1  8 27]\n",
      "Last Row:\t [1000 1331 1728]\n"
     ]
    }
   ],
   "source": [
    "cubes = np.arange(1, 13).reshape(4, 3)**3\n",
    "\n",
    "print(cubes[:,:], end='\\n\\n')         \n",
    "print('First Column:\\t', cubes[:, 0]) \n",
    "print('Last Column:\\t', cubes[:, -1]) \n",
    "print('First Row:\\t', cubes[0, :])    \n",
    "print('Last Row:\\t', cubes[-1, :])"
   ]
  },
  {
   "cell_type": "code",
   "execution_count": 37,
   "metadata": {},
   "outputs": [
    {
     "data": {
      "text/plain": [
       "array([ 1,  2,  3,  4,  5,  6,  7,  8,  9, 10])"
      ]
     },
     "execution_count": 37,
     "metadata": {},
     "output_type": "execute_result"
    }
   ],
   "source": [
    "A = np.array([x+1 for x in range(10)])\n",
    "A"
   ]
  },
  {
   "cell_type": "code",
   "execution_count": 38,
   "metadata": {},
   "outputs": [
    {
     "name": "stdout",
     "output_type": "stream",
     "text": [
      "1,2,3,4,5,6,7,8,9,10,"
     ]
    }
   ],
   "source": [
    "for a in A:\n",
    "    print(a, end=',')"
   ]
  },
  {
   "cell_type": "code",
   "execution_count": 39,
   "metadata": {},
   "outputs": [
    {
     "name": "stdout",
     "output_type": "stream",
     "text": [
      "1,4,9,16,25,"
     ]
    }
   ],
   "source": [
    "A = A.reshape(2, 5)\n",
    "\n",
    "for a in A[0,:]: \n",
    "    print(a**2, end=',')"
   ]
  },
  {
   "cell_type": "markdown",
   "metadata": {},
   "source": [
    "###### Come splittare gli arrays"
   ]
  },
  {
   "cell_type": "code",
   "execution_count": 40,
   "metadata": {},
   "outputs": [
    {
     "name": "stdout",
     "output_type": "stream",
     "text": [
      "[[1. 1. 1.]\n",
      " [1. 1. 1.]\n",
      " [1. 1. 1.]]\n",
      "\n",
      "[[1.]\n",
      " [1.]\n",
      " [1.]]\n",
      "\n",
      "[[1.]\n",
      " [1.]\n",
      " [1.]]\n",
      "\n",
      "[[1.]\n",
      " [1.]\n",
      " [1.]]\n",
      "\n"
     ]
    }
   ],
   "source": [
    "a = np.ones(9).reshape(3, 3)\n",
    "\n",
    "a_1, a_2, a_3 = np.hsplit(a, 3)\n",
    "\n",
    "print(a, end='\\n\\n')\n",
    "print(a_1, end='\\n\\n')\n",
    "print(a_2, end='\\n\\n')\n",
    "print(a_3, end='\\n\\n')"
   ]
  },
  {
   "cell_type": "markdown",
   "metadata": {},
   "source": [
    "## Homework"
   ]
  },
  {
   "cell_type": "markdown",
   "metadata": {},
   "source": [
    "- Crea una matrice 3x3 con valori compresi tra 0 e 8\n",
    "- Crea un vettore random con 30 elementi e trova il valore medio\n",
    "- Trova gli indici degli elementi diversi da zero del seguente array [3,5,0,4,0,8,0]\n",
    "- Scrivi un programma per ottenere gli indici degli elementi ordinati di un dato array\n",
    "    ,esempio : \n",
    "     - array: [1023 5202 6230 1671 1682 5241 4532]\n",
    "     - indice degli elementi ordinati dell'array :[0 3 4 6 1 5 2]\n",
    "- Scrivi un programma che calcola la media attraverso la dimensione, in un array 2D\n",
    "    ,esempio : \n",
    "     - array:   \n",
    "       [[10 30]\n",
    "       \n",
    "       [20 60]]\n",
    "     - media di ogni colonna: [15 45]\n",
    "     - media di ogni riga: [20 40]"
   ]
  },
  {
   "cell_type": "markdown",
   "metadata": {},
   "source": [
    "Inoltre se volete continuare ad esercitarvi trovate una vasta gamma di esercizi di ogni tipologia su questo sito:\n",
    "https://www.w3resource.com/python-exercises/numpy/index.php\n",
    "    "
   ]
  },
  {
   "cell_type": "code",
   "execution_count": 10,
   "metadata": {},
   "outputs": [
    {
     "name": "stdout",
     "output_type": "stream",
     "text": [
      "[[0 1 2]\n",
      " [3 4 5]\n",
      " [6 7 8]]\n",
      "\n",
      "\n",
      "La media del vettore casuale di 30 elementi è 0.4715072030950511\n",
      "\n",
      "\n",
      "Gli indici di tale vettore che non sono 0 sono (array([0, 1, 3, 5], dtype=int64),)\n",
      "\n",
      "\n",
      "Il vettore ordinato di partenza è [[1671 4748 6206 9157 8400 1725 3027]]\n",
      "Gli indici del vettore ordinato sono [[0 5 6 1 2 4 3]]\n",
      "\n",
      "\n",
      "Il vettore casuale di partenza è [[11  7]\n",
      " [40 14]]\n",
      "La media di ogni colonna dell'array2d è [25.5 10.5]\n",
      "La media di ogni riga dell'array2d è [ 9. 27.]\n"
     ]
    }
   ],
   "source": [
    "import numpy as np\n",
    "import numpy.random as rdm\n",
    "\n",
    "\n",
    "#Matrice 3x3 con numeri compresi fra 0 ed 8\n",
    "matrice = np.arange(9).reshape(3,3)\n",
    "print(matrice)\n",
    "\n",
    "\n",
    "#Vettore casuale di 30 elementi con media\n",
    "vettore = rdm.random((1,30))\n",
    "media = np.mean(vettore)\n",
    "print('\\n')\n",
    "print(\"La media del vettore casuale di 30 elementi è\",media)\n",
    "\n",
    "#Indici degli elemnenti che non sono 0 in un array\n",
    "array = np.array([3,5,0,4,0,8,0])\n",
    "indici = np.nonzero(array)\n",
    "print('\\n')\n",
    "print(\"Gli indici di tale vettore che non sono 0 sono\",indici)\n",
    "\n",
    "#Indici di un vettore ordinato \n",
    "vettore_ordinato = rdm.randint(1000,10000,(1,7))\n",
    "print('\\n')\n",
    "print(\"Il vettore ordinato di partenza è\",vettore_ordinato)\n",
    "indici_vettore_ordinato = np.argsort(vettore_ordinato)\n",
    "print(\"Gli indici del vettore ordinato sono\",indici_vettore_ordinato)\n",
    "\n",
    "\n",
    "#Array2d\n",
    "array2d = np.random.rand(2, 50).argpartition(2,axis=1)[:,:2]+1\n",
    "array2d\n",
    "media_colonna = np.mean(array2d,axis=0)\n",
    "media_riga = np.mean(array2d,axis=1)\n",
    "print('\\n')\n",
    "print(\"Il vettore casuale di partenza è\",array2d)\n",
    "print(\"La media di ogni colonna dell'array2d è\",media_colonna)\n",
    "print(\"La media di ogni riga dell'array2d è\",media_riga)\n",
    "\n"
   ]
  },
  {
   "cell_type": "code",
   "execution_count": 9,
   "metadata": {},
   "outputs": [
    {
     "data": {
      "text/plain": [
       "[0, 3, 4, 6, 1, 5, 2]"
      ]
     },
     "execution_count": 9,
     "metadata": {},
     "output_type": "execute_result"
    }
   ],
   "source": [
    "#Trovare indici del vettore ordinato senza libreria numpy\n",
    "def argsort(vettore_senza_numpy): \n",
    "    return sorted(range(len(vettore_senza_numpy)), key=vettore_senza_numpy.__getitem__)\n",
    "argsort([1023,5202 ,6230 ,1671 ,1682 ,5241 ,4532])"
   ]
  },
  {
   "cell_type": "code",
   "execution_count": null,
   "metadata": {},
   "outputs": [],
   "source": []
  }
 ],
 "metadata": {
  "kernelspec": {
   "display_name": "Python 3",
   "language": "python",
   "name": "python3"
  },
  "language_info": {
   "codemirror_mode": {
    "name": "ipython",
    "version": 3
   },
   "file_extension": ".py",
   "mimetype": "text/x-python",
   "name": "python",
   "nbconvert_exporter": "python",
   "pygments_lexer": "ipython3",
   "version": "3.8.5"
  },
  "toc": {
   "base_numbering": 1,
   "nav_menu": {},
   "number_sections": true,
   "sideBar": false,
   "skip_h1_title": false,
   "title_cell": "Table of Contents",
   "title_sidebar": "Contents",
   "toc_cell": true,
   "toc_position": {
    "height": "790px",
    "left": "42px",
    "top": "111px",
    "width": "165px"
   },
   "toc_section_display": true,
   "toc_window_display": true
  }
 },
 "nbformat": 4,
 "nbformat_minor": 2
}
